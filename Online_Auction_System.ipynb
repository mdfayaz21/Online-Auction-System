{
  "nbformat": 4,
  "nbformat_minor": 0,
  "metadata": {
    "colab": {
      "provenance": [],
      "authorship_tag": "ABX9TyMzH/3AipjBOZMBux3TCzO2",
      "include_colab_link": true
    },
    "kernelspec": {
      "name": "python3",
      "display_name": "Python 3"
    },
    "language_info": {
      "name": "python"
    }
  },
  "cells": [
    {
      "cell_type": "markdown",
      "metadata": {
        "id": "view-in-github",
        "colab_type": "text"
      },
      "source": [
        "<a href=\"https://colab.research.google.com/github/mdfayaz21/Online-Auction-System/blob/main/Online_Auction_System.ipynb\" target=\"_parent\"><img src=\"https://colab.research.google.com/assets/colab-badge.svg\" alt=\"Open In Colab\"/></a>"
      ]
    },
    {
      "cell_type": "code",
      "execution_count": 1,
      "metadata": {
        "colab": {
          "base_uri": "https://localhost:8080/"
        },
        "id": "eC11ER-o78p-",
        "outputId": "ae6fd55a-e6d3-465b-f1fb-2554cdf258a1"
      },
      "outputs": [
        {
          "output_type": "stream",
          "name": "stdout",
          "text": [
            "Requirement already satisfied: flask in /usr/local/lib/python3.11/dist-packages (3.1.0)\n",
            "Requirement already satisfied: opencv-python in /usr/local/lib/python3.11/dist-packages (4.10.0.84)\n",
            "Collecting pyngrok\n",
            "  Downloading pyngrok-7.2.3-py3-none-any.whl.metadata (8.7 kB)\n",
            "Requirement already satisfied: Werkzeug>=3.1 in /usr/local/lib/python3.11/dist-packages (from flask) (3.1.3)\n",
            "Requirement already satisfied: Jinja2>=3.1.2 in /usr/local/lib/python3.11/dist-packages (from flask) (3.1.5)\n",
            "Requirement already satisfied: itsdangerous>=2.2 in /usr/local/lib/python3.11/dist-packages (from flask) (2.2.0)\n",
            "Requirement already satisfied: click>=8.1.3 in /usr/local/lib/python3.11/dist-packages (from flask) (8.1.8)\n",
            "Requirement already satisfied: blinker>=1.9 in /usr/local/lib/python3.11/dist-packages (from flask) (1.9.0)\n",
            "Requirement already satisfied: numpy>=1.21.2 in /usr/local/lib/python3.11/dist-packages (from opencv-python) (1.26.4)\n",
            "Requirement already satisfied: PyYAML>=5.1 in /usr/local/lib/python3.11/dist-packages (from pyngrok) (6.0.2)\n",
            "Requirement already satisfied: MarkupSafe>=2.0 in /usr/local/lib/python3.11/dist-packages (from Jinja2>=3.1.2->flask) (3.0.2)\n",
            "Downloading pyngrok-7.2.3-py3-none-any.whl (23 kB)\n",
            "Installing collected packages: pyngrok\n",
            "Successfully installed pyngrok-7.2.3\n"
          ]
        }
      ],
      "source": [
        "!pip install flask opencv-python pyngrok"
      ]
    },
    {
      "cell_type": "code",
      "source": [
        "from flask import Flask, render_template, request, redirect, url_for\n",
        "from pyngrok import ngrok\n",
        "import cv2\n",
        "import threading\n",
        "\n",
        "app = Flask(__name__)\n",
        "\n",
        "# Dummy data for auction items\n",
        "auction_items = [\n",
        "    {\"id\": 1, \"name\": \"Painting\", \"current_bid\": 100},\n",
        "    {\"id\": 2, \"name\": \"Antique Vase\", \"current_bid\": 200},\n",
        "    {\"id\": 3, \"name\": \"Vintage Watch\", \"current_bid\": 150},\n",
        "]\n",
        "\n",
        "# Home page\n",
        "@app.route('/')\n",
        "def home():\n",
        "    return render_template('home.html', items=auction_items)\n",
        "\n",
        "# Bid on an item\n",
        "@app.route('/bid/<int:item_id>', methods=['GET', 'POST'])\n",
        "def bid(item_id):\n",
        "    item = next((item for item in auction_items if item[\"id\"] == item_id), None)\n",
        "    if request.method == 'POST':\n",
        "        bid_amount = int(request.form['bid_amount'])\n",
        "        if bid_amount > item['current_bid']:\n",
        "            item['current_bid'] = bid_amount\n",
        "            return redirect(url_for('home'))\n",
        "    return render_template('bid.html', item=item)\n",
        "\n",
        "# Real-time face detection page\n",
        "@app.route('/face_detection')\n",
        "def face_detection():\n",
        "    return render_template('face_detection.html')\n",
        "\n",
        "# Run the Flask app\n",
        "def run_flask():\n",
        "    app.run(host='0.0.0.0', port=5001)\n",
        "\n",
        "# Start Flask in a separate thread\n",
        "threading.Thread(target=run_flask).start()\n",
        "\n",
        "# Set your Ngrok authtoken\n",
        "ngrok.set_auth_token(\"2sS9VDhL61GUf2mNF1wxkRfBIim_3wnXjJd6dgC78eYXyEEPh\")  # Replace with your Ngrok authtoken\n",
        "\n",
        "# Expose the app using ngrok\n",
        "public_url = ngrok.connect(5000)\n",
        "print(\"Auction System is live at:\", public_url)"
      ],
      "metadata": {
        "colab": {
          "base_uri": "https://localhost:8080/"
        },
        "id": "jhfmwfZj8w0C",
        "outputId": "55e45cfe-a194-440e-a39f-76ee0502df2b"
      },
      "execution_count": 8,
      "outputs": [
        {
          "output_type": "stream",
          "name": "stdout",
          "text": [
            " * Serving Flask app '__main__'\n",
            " * Debug mode: off\n",
            "Auction System is live at: NgrokTunnel: \"https://e70c-34-141-172-195.ngrok-free.app\" -> \"http://localhost:5000\"\n"
          ]
        },
        {
          "output_type": "stream",
          "name": "stderr",
          "text": [
            "Address already in use\n",
            "Port 5001 is in use by another program. Either identify and stop that program, or start the server with a different port.\n"
          ]
        }
      ]
    },
    {
      "cell_type": "code",
      "source": [
        "from flask import Response\n",
        "import cv2\n",
        "\n",
        "# Load the Haar Cascade classifier for face detection\n",
        "face_cascade = cv2.CascadeClassifier(cv2.data.haarcascades + 'haarcascade_frontalface_default.xml')\n",
        "\n",
        "# Video feed generator\n",
        "def generate_frames():\n",
        "    cap = cv2.VideoCapture(0)\n",
        "    while True:\n",
        "        success, frame = cap.read()\n",
        "        if not success:\n",
        "            break\n",
        "        else:\n",
        "            # Convert frame to grayscale\n",
        "            gray = cv2.cvtColor(frame, cv2.COLOR_BGR2GRAY)\n",
        "            # Detect faces\n",
        "            faces = face_cascade.detectMultiScale(gray, scaleFactor=1.1, minNeighbors=5, minSize=(30, 30))\n",
        "            # Draw rectangles around detected faces\n",
        "            for (x, y, w, h) in faces:\n",
        "                cv2.rectangle(frame, (x, y), (x+w, y+h), (255, 0, 0), 2)\n",
        "            # Encode the frame as JPEG\n",
        "            ret, buffer = cv2.imencode('.jpg', frame)\n",
        "            frame = buffer.tobytes()\n",
        "            yield (b'--frame\\r\\n'\n",
        "                   b'Content-Type: image/jpeg\\r\\n\\r\\n' + frame + b'\\r\\n')\n",
        "\n",
        "# Video feed route\n",
        "@app.route('/video_feed')\n",
        "def video_feed():\n",
        "    return Response(generate_frames(), mimetype='multipart/x-mixed-replace; boundary=frame')"
      ],
      "metadata": {
        "id": "zRDxTYMEAioD"
      },
      "execution_count": 7,
      "outputs": []
    }
  ]
}